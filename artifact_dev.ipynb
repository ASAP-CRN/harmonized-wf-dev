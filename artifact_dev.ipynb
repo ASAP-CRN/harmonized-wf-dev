{
 "cells": [
  {
   "cell_type": "code",
   "execution_count": null,
   "metadata": {},
   "outputs": [],
   "source": []
  },
  {
   "cell_type": "markdown",
   "metadata": {},
   "source": [
    "# pull down artifacts + develop scib metrics\n",
    "\n",
    "\n",
    "## pull down\n",
    "\n",
    "cohort-level\n",
    "- gs://asap-curated-data-cohort\n",
    "\n",
    "team Lee\n",
    "- gs://asap-curated-data-team-lee\n",
    "\n",
    "team Hafler\n",
    "- gs://asap-curated-data-team-hafler\n",
    "\n",
    "team Jakobsson\n",
    "- gs://asap-curated-data-team-jakobsson\n"
   ]
  },
  {
   "cell_type": "code",
   "execution_count": 1,
   "metadata": {},
   "outputs": [
    {
     "name": "stdout",
     "output_type": "stream",
     "text": [
      "Copying gs://asap-curated-data-cohort/cohort_analysis/asap-cohort.adata_object.scvi_integrated.umap_cluster.annotate_cells.h5ad...\n",
      "==> NOTE: You are downloading one or more large file(s), which would            \n",
      "run significantly faster if you enabled sliced object downloads. This\n",
      "feature is enabled by default but requires that compiled crcmod be\n",
      "installed (see \"gsutil help crcmod\").\n",
      "\n",
      "\\ [1 files][  7.2 GiB/  7.2 GiB]   14.1 MiB/s                                   \n",
      "Operation completed over 1 objects/7.2 GiB.                                      \n"
     ]
    }
   ],
   "source": [
    "! gsutil cp gs://asap-curated-data-cohort/cohort_analysis/asap-cohort.adata_object.scvi_integrated.umap_cluster.annotate_cells.h5ad artifacts/\n"
   ]
  },
  {
   "cell_type": "code",
   "execution_count": 2,
   "metadata": {},
   "outputs": [
    {
     "name": "stdout",
     "output_type": "stream",
     "text": [
      "Copying gs://asap-curated-data-team-lee/cohort_analysis/team-lee.adata_object.scvi_integrated.umap_cluster.annotate_cells.h5ad...\n",
      "==> NOTE: You are downloading one or more large file(s), which would            \n",
      "run significantly faster if you enabled sliced object downloads. This\n",
      "feature is enabled by default but requires that compiled crcmod be\n",
      "installed (see \"gsutil help crcmod\").\n",
      "\n",
      "- [1 files][  3.1 GiB/  3.1 GiB]   13.8 MiB/s                                   \n",
      "Operation completed over 1 objects/3.1 GiB.                                      \n"
     ]
    }
   ],
   "source": [
    "! gsutil cp gs://asap-curated-data-team-lee/cohort_analysis/team-lee.adata_object.scvi_integrated.umap_cluster.annotate_cells.h5ad artifacts/\n"
   ]
  },
  {
   "cell_type": "code",
   "execution_count": 3,
   "metadata": {},
   "outputs": [
    {
     "name": "stdout",
     "output_type": "stream",
     "text": [
      "Copying gs://asap-curated-data-team-hafler/cohort_analysis/team-hafler.adata_object.scvi_integrated.umap_cluster.annotate_cells.h5ad...\n",
      "==> NOTE: You are downloading one or more large file(s), which would            \n",
      "run significantly faster if you enabled sliced object downloads. This\n",
      "feature is enabled by default but requires that compiled crcmod be\n",
      "installed (see \"gsutil help crcmod\").\n",
      "\n",
      "| [1 files][  1.4 GiB/  1.4 GiB]   11.2 MiB/s                                   \n",
      "Operation completed over 1 objects/1.4 GiB.                                      \n"
     ]
    }
   ],
   "source": [
    "! gsutil cp gs://asap-curated-data-team-hafler/cohort_analysis/team-hafler.adata_object.scvi_integrated.umap_cluster.annotate_cells.h5ad artifacts/\n"
   ]
  },
  {
   "cell_type": "code",
   "execution_count": 4,
   "metadata": {},
   "outputs": [
    {
     "name": "stdout",
     "output_type": "stream",
     "text": [
      "Copying gs://asap-curated-data-team-jakobsson/cohort_analysis/team-jakobsson.adata_object.scvi_integrated.umap_cluster.annotate_cells.h5ad...\n",
      "==> NOTE: You are downloading one or more large file(s), which would            \n",
      "run significantly faster if you enabled sliced object downloads. This\n",
      "feature is enabled by default but requires that compiled crcmod be\n",
      "installed (see \"gsutil help crcmod\").\n",
      "\n",
      "| [1 files][  2.3 GiB/  2.3 GiB]   13.6 MiB/s                                   \n",
      "Operation completed over 1 objects/2.3 GiB.                                      \n"
     ]
    }
   ],
   "source": [
    "! gsutil cp gs://asap-curated-data-team-jakobsson/cohort_analysis/team-jakobsson.adata_object.scvi_integrated.umap_cluster.annotate_cells.h5ad artifacts/\n"
   ]
  },
  {
   "cell_type": "code",
   "execution_count": 7,
   "metadata": {},
   "outputs": [
    {
     "name": "stdout",
     "output_type": "stream",
     "text": [
      "\n",
      "Usage:   \n",
      "  pip install [options] <requirement specifier> [package-index-options] ...\n",
      "  pip install [options] -r <requirements file> [package-index-options] ...\n",
      "  pip install [options] [-e] <vcs project url> ...\n",
      "  pip install [options] [-e] <local project path> ...\n",
      "  pip install [options] <archive url/path> ...\n",
      "\n",
      "no such option: -y\n",
      "Collecting package metadata (current_repodata.json): done\n",
      "Solving environment: done\n",
      "\n",
      "\n",
      "==> WARNING: A newer version of conda exists. <==\n",
      "  current version: 23.7.3\n",
      "  latest version: 24.4.0\n",
      "\n",
      "Please update conda by running\n",
      "\n",
      "    $ conda update -n base -c conda-forge conda\n",
      "\n",
      "Or to minimize the number of packages updated during conda update use\n",
      "\n",
      "     conda install conda=24.4.0\n",
      "\n",
      "\n",
      "\n",
      "## Package Plan ##\n",
      "\n",
      "  environment location: /Users/ergonyc/miniforge3/envs/scib_mac\n",
      "\n",
      "  added / updated specs:\n",
      "    - faiss-cpu\n",
      "\n",
      "\n",
      "The following packages will be downloaded:\n",
      "\n",
      "    package                    |            build\n",
      "    ---------------------------|-----------------\n",
      "    faiss-1.7.4                |py311h295aba0_0_cpu         1.1 MB  conda-forge\n",
      "    faiss-cpu-1.7.4            |       ha40c140_0          19 KB  conda-forge\n",
      "    libfaiss-1.7.4             |   h1234567_0_cpu         1.1 MB  conda-forge\n",
      "    openssl-3.3.0              |       h0d3ecfb_0         2.8 MB  conda-forge\n",
      "    ------------------------------------------------------------\n",
      "                                           Total:         5.0 MB\n",
      "\n",
      "The following NEW packages will be INSTALLED:\n",
      "\n",
      "  faiss              conda-forge/osx-arm64::faiss-1.7.4-py311h295aba0_0_cpu \n",
      "  faiss-cpu          conda-forge/osx-arm64::faiss-cpu-1.7.4-ha40c140_0 \n",
      "  libfaiss           conda-forge/osx-arm64::libfaiss-1.7.4-h1234567_0_cpu \n",
      "\n",
      "The following packages will be UPDATED:\n",
      "\n",
      "  openssl                                  3.2.1-h0d3ecfb_1 --> 3.3.0-h0d3ecfb_0 \n",
      "\n",
      "\n",
      "\n",
      "Downloading and Extracting Packages\n",
      "libfaiss-1.7.4       | 1.1 MB    |                                       |   0% \n",
      "openssl-3.3.0        | 2.8 MB    |                                       |   0% \u001b[A\n",
      "\n",
      "faiss-cpu-1.7.4      | 19 KB     |                                       |   0% \u001b[A\u001b[A\n",
      "\n",
      "\n",
      "faiss-1.7.4          | 1.1 MB    |                                       |   0% \u001b[A\u001b[A\u001b[A\n",
      "\n",
      "faiss-cpu-1.7.4      | 19 KB     | ###############################5      |  85% \u001b[A\u001b[A\n",
      "libfaiss-1.7.4       | 1.1 MB    | 5                                     |   1% \u001b[A\n",
      "\n",
      "faiss-cpu-1.7.4      | 19 KB     | ##################################### | 100% \u001b[A\u001b[A\n",
      "\n",
      "\n",
      "faiss-1.7.4          | 1.1 MB    | 5                                     |   1% \u001b[A\u001b[A\u001b[A\n",
      "libfaiss-1.7.4       | 1.1 MB    | #####################8                |  59% \u001b[A\n",
      "\n",
      "\n",
      "faiss-1.7.4          | 1.1 MB    | ###########8                          |  32% \u001b[A\u001b[A\u001b[A\n",
      "libfaiss-1.7.4       | 1.1 MB    | ##################################### | 100% \u001b[A\n",
      "\n",
      "\n",
      "faiss-1.7.4          | 1.1 MB    | ##################################### | 100% \u001b[A\u001b[A\u001b[A\n",
      "openssl-3.3.0        | 2.8 MB    | ###############################9      |  86% \u001b[A\n",
      "\n",
      "\n",
      "faiss-1.7.4          | 1.1 MB    | ##################################### | 100% \u001b[A\u001b[A\u001b[A\n",
      "                                                                                \u001b[A\n",
      "                                                                                \u001b[A\n",
      "\n",
      "                                                                                \u001b[A\u001b[A\n",
      "\n",
      "\n",
      "                                                                                \u001b[A\u001b[A\u001b[A\n",
      "Preparing transaction: done\n",
      "Verifying transaction: done\n",
      "Executing transaction: done\n"
     ]
    }
   ],
   "source": [
    "! pip install scib-metrics \n",
    "# conda install -c conda-forge faiss-gpu\n",
    "! conda install -c conda-forge faiss-cpu -y\n"
   ]
  },
  {
   "cell_type": "code",
   "execution_count": 7,
   "metadata": {},
   "outputs": [],
   "source": [
    "import scanpy as sc\n",
    "import pandas as pd\n",
    "import numpy as np\n",
    "from pathlib import Path\n",
    "\n",
    "from scib_metrics.benchmark import Benchmarker, BioConservation\n",
    "\n",
    "%matplotlib inline"
   ]
  },
  {
   "cell_type": "code",
   "execution_count": 2,
   "metadata": {},
   "outputs": [],
   "source": [
    "TEAM_NAMES = [\"asap-cohort\", \"team-lee\", \"team-hafler\", \"team-jakobsson\"]\n",
    "\n",
    "# for team_name in TEAM_NAMES:\n",
    "#     adata = sc.read('artifacts/{}.adata_object.scvi_integrated.umap_cluster.annotate_cells.h5ad'.format(team_name))\n",
    "#     adata.obs['team'] = team_name\n",
    "\n",
    "#     if team_name == TEAM_NAMES[0]:\n",
    "#         adata_all = adata\n",
    "#     else:\n",
    "#         adata_all = adata_all.concatenate(adata, batch_key='team')"
   ]
  },
  {
   "cell_type": "code",
   "execution_count": 3,
   "metadata": {},
   "outputs": [
    {
     "name": "stdout",
     "output_type": "stream",
     "text": [
      "WARNING: Your filename has more than two extensions: ['.adata_object', '.scvi_integrated', '.umap_cluster', '.annotate_cells', '.h5ad'].\n",
      "Only considering the two last: ['.annotate_cells', '.h5ad'].\n",
      "WARNING: Your filename has more than two extensions: ['.adata_object', '.scvi_integrated', '.umap_cluster', '.annotate_cells', '.h5ad'].\n",
      "Only considering the two last: ['.annotate_cells', '.h5ad'].\n"
     ]
    }
   ],
   "source": [
    "team_name = TEAM_NAMES[0]\n",
    "\n",
    "filen = Path(f\"artifacts/{team_name}.scib.h5ad\")\n",
    "\n",
    "if filen.exists():\n",
    "    adata = sc.read(filen)\n",
    "else:\n",
    "    filen = Path(\n",
    "        f\"artifacts/{team_name}.adata_object.scvi_integrated.umap_cluster.annotate_cells.h5ad\"\n",
    "    )\n",
    "    adata = sc.read(filen)\n",
    "    adata.obs[\"team\"] = team_name"
   ]
  },
  {
   "cell_type": "code",
   "execution_count": 4,
   "metadata": {},
   "outputs": [
    {
     "data": {
      "text/plain": [
       "AnnData object with n_obs × n_vars = 465157 × 8000\n",
       "    obs: 'background_fraction', 'cell_probability', 'cell_size', 'droplet_efficiency', 'n_genes_by_counts', 'total_counts', 'total_counts_rb', 'pct_counts_rb', 'total_counts_mt', 'pct_counts_mt', 'doublet_score', 'sample', 'batch', 'project', 'batch_id', 'S_score', 'G2M_score', 'phase', '_scvi_batch', '_scvi_labels', 'leiden', 'cell_type', 'team'\n",
       "    var: 'feature_type', 'genome', 'gene_id', 'mt', 'rb', 'highly_variable', 'highly_variable_rank', 'means', 'variances', 'variances_norm', 'highly_variable_nbatches'\n",
       "    uns: '_scvi_manager_uuid', '_scvi_uuid', 'estimator', 'fraction_data_used_for_testing', 'hvg', 'learning_curve_learning_rate_epoch', 'learning_curve_test_epoch', 'learning_curve_train_epoch', 'leiden', 'log1p', 'neighbors', 'scrublet', 'target_false_positive_rate', 'umap'\n",
       "    obsm: 'X_scvi', 'X_umap', 'gene_expression_encoding'\n",
       "    layers: 'counts'\n",
       "    obsp: 'connectivities', 'distances'"
      ]
     },
     "execution_count": 4,
     "metadata": {},
     "output_type": "execute_result"
    }
   ],
   "source": [
    "adata"
   ]
  },
  {
   "cell_type": "code",
   "execution_count": 5,
   "metadata": {},
   "outputs": [],
   "source": [
    "# do I need to compute pca for unintegrated data?\n",
    "# if so scale to 10k and log1p\n",
    "# adata.raw = adata\n",
    "# adata = adata.copy()\n",
    "# sc.pp.normalize_total(adata, target_sum=1e4)\n",
    "# sc.pp.log1p(adata)\n",
    "if not \"X_pca\" in adata.obsm.keys():\n",
    "    sc.pp.pca(adata, n_comps=50)\n",
    "    filen = Path(f\"artifacts/{team_name}.scib.h5ad\")\n",
    "    adata.write(filen)"
   ]
  },
  {
   "cell_type": "code",
   "execution_count": 9,
   "metadata": {},
   "outputs": [],
   "source": [
    "# import faiss\n",
    "\n",
    "# from scib_metrics.nearest_neighbors import NeighborsResults\n",
    "\n",
    "\n",
    "# def faiss_hnsw_nn(X: np.ndarray, k: int):\n",
    "#     \"\"\"Gpu HNSW nearest neighbor search using faiss.\n",
    "\n",
    "#     See https://github.com/nmslib/hnswlib/blob/master/ALGO_PARAMS.md\n",
    "#     for index param details.\n",
    "#     \"\"\"\n",
    "#     X = np.ascontiguousarray(X, dtype=np.float32)\n",
    "#     res = faiss.StandardGpuResources()\n",
    "#     M = 32\n",
    "#     index = faiss.IndexHNSWFlat(X.shape[1], M, faiss.METRIC_L2)\n",
    "#     gpu_index = faiss.index_cpu_to_gpu(res, 0, index)\n",
    "#     gpu_index.add(X)\n",
    "#     distances, indices = gpu_index.search(X, k)\n",
    "#     del index\n",
    "#     del gpu_index\n",
    "#     # distances are squared\n",
    "#     return NeighborsResults(indices=indices, distances=np.sqrt(distances))\n",
    "\n",
    "\n",
    "# def faiss_brute_force_nn(X: np.ndarray, k: int):\n",
    "#     \"\"\"Gpu brute force nearest neighbor search using faiss.\"\"\"\n",
    "#     X = np.ascontiguousarray(X, dtype=np.float32)\n",
    "#     res = faiss.StandardGpuResources()\n",
    "#     index = faiss.IndexFlatL2(X.shape[1])\n",
    "#     gpu_index = faiss.index_cpu_to_gpu(res, 0, index)\n",
    "#     gpu_index.add(X)\n",
    "#     distances, indices = gpu_index.search(X, k)\n",
    "#     del index\n",
    "#     del gpu_index\n",
    "#     # distances are squared\n",
    "#     return NeighborsResults(indices=indices, distances=np.sqrt(distances))"
   ]
  },
  {
   "cell_type": "code",
   "execution_count": 10,
   "metadata": {},
   "outputs": [],
   "source": [
    "import time\n",
    "\n",
    "adata.obsm[\"Unintegrated\"] = adata.obsm[\"X_pca\"]\n",
    "\n",
    "biocons = BioConservation(isolated_labels=False)\n",
    "\n",
    "start = time.time()\n",
    "bm = Benchmarker(\n",
    "    adata,\n",
    "    batch_key=\"sample\",\n",
    "    label_key=\"cell_type\",\n",
    "    embedding_obsm_keys=[\"Unintegrated\", \"X_scvi\"],\n",
    "    pre_integrated_embedding_obsm_key=\"X_pca\",\n",
    "    bio_conservation_metrics=biocons,\n",
    "    n_jobs=-1,\n",
    ")"
   ]
  },
  {
   "cell_type": "code",
   "execution_count": 11,
   "metadata": {},
   "outputs": [
    {
     "name": "stderr",
     "output_type": "stream",
     "text": [
      "Computing neighbors:   0%|          | 0/2 [00:00<?, ?it/s]OMP: Info #276: omp_set_nested routine deprecated, please use omp_set_max_active_levels instead.\n",
      "Computing neighbors: 100%|██████████| 2/2 [01:35<00:00, 47.78s/it]\n"
     ]
    }
   ],
   "source": [
    "bm.prepare()"
   ]
  },
  {
   "cell_type": "code",
   "execution_count": 12,
   "metadata": {},
   "outputs": [
    {
     "name": "stderr",
     "output_type": "stream",
     "text": [
      "Embeddings:   0%|\u001b[32m          \u001b[0m| 0/2 [00:00<?, ?it/s]Platform 'METAL' is experimental and not all JAX functionality may be correctly supported!\n",
      "2024-05-07 18:38:46.962759: W pjrt_plugin/src/mps_client.cc:563] WARNING: JAX Apple GPU support is experimental and not all JAX functionality is correctly supported!\n"
     ]
    },
    {
     "name": "stdout",
     "output_type": "stream",
     "text": [
      "Metal device set to: Apple M2 Max\n",
      "\n",
      "systemMemory: 32.00 GB\n",
      "maxCacheSize: 10.67 GB\n",
      "\n"
     ]
    },
    {
     "ename": "",
     "evalue": "",
     "output_type": "error",
     "traceback": [
      "\u001b[1;31mThe Kernel crashed while executing code in the current cell or a previous cell. \n",
      "\u001b[1;31mPlease review the code in the cell(s) to identify a possible cause of the failure. \n",
      "\u001b[1;31mClick <a href='https://aka.ms/vscodeJupyterKernelCrash'>here</a> for more info. \n",
      "\u001b[1;31mView Jupyter <a href='command:jupyter.viewOutput'>log</a> for further details."
     ]
    }
   ],
   "source": [
    "# bm.prepare(neighbor_computer=faiss_brute_force_nn)\n",
    "bm.benchmark()\n",
    "end = time.time()\n",
    "print(f\"Time: {int((end - start) / 60)} min {int((end - start) % 60)} sec\")"
   ]
  },
  {
   "cell_type": "code",
   "execution_count": null,
   "metadata": {},
   "outputs": [],
   "source": [
    "bm.plot_results_table()"
   ]
  },
  {
   "cell_type": "code",
   "execution_count": null,
   "metadata": {},
   "outputs": [],
   "source": [
    "bm.plot_results_table(min_max_scale=False)"
   ]
  },
  {
   "cell_type": "code",
   "execution_count": null,
   "metadata": {},
   "outputs": [],
   "source": []
  }
 ],
 "metadata": {
  "kernelspec": {
   "display_name": "scib_mac",
   "language": "python",
   "name": "python3"
  },
  "language_info": {
   "codemirror_mode": {
    "name": "ipython",
    "version": 3
   },
   "file_extension": ".py",
   "mimetype": "text/x-python",
   "name": "python",
   "nbconvert_exporter": "python",
   "pygments_lexer": "ipython3",
   "version": "3.11.9"
  }
 },
 "nbformat": 4,
 "nbformat_minor": 2
}
