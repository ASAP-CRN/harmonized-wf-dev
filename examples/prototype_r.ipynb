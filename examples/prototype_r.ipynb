{
 "cells": [
  {
   "cell_type": "markdown",
   "metadata": {},
   "source": [
    "## R code testing prototypes\n",
    "\n",
    "\n",
    "filtered counts: gs://asap-raw-data-team-lee/cellranger_counts/SN/SN_0009_PD_count_filtered_feature_bc_matrix.h5\n",
    "\n",
    "\n",
    "raw counts: gs://asap-raw-data-team-lee/cellranger_counts/SN/SN_0009_PD_count_raw_feature_bc_matrix.h5\n",
    "\n",
    "\n"
   ]
  },
  {
   "cell_type": "code",
   "execution_count": 2,
   "metadata": {
    "vscode": {
     "languageId": "r"
    }
   },
   "outputs": [
    {
     "name": "stderr",
     "output_type": "stream",
     "text": [
      "also installing the dependencies ‘rmarkdown’, ‘htmlwidgets’, ‘tidyr’, ‘gplots’, ‘RcppArmadillo’, ‘httpuv’, ‘bslib’, ‘spatstat.data’, ‘spatstat.random’, ‘spatstat.sparse’, ‘dqrng’, ‘cowplot’, ‘future’, ‘future.apply’, ‘ggplot2’, ‘ggrepel’, ‘ggridges’, ‘leiden’, ‘lmtest’, ‘miniUI’, ‘patchwork’, ‘plotly’, ‘reticulate’, ‘ROCR’, ‘scales’, ‘scattermore’, ‘sctransform’, ‘SeuratObject’, ‘shiny’, ‘spatstat.explore’, ‘spatstat.geom’, ‘uwot’, ‘RcppEigen’\n",
      "\n",
      "\n",
      "Warning message in install.packages(\"Seurat\"):\n",
      "“installation of package ‘RcppArmadillo’ had non-zero exit status”\n",
      "Warning message in install.packages(\"Seurat\"):\n",
      "“installation of package ‘httpuv’ had non-zero exit status”\n",
      "Warning message in install.packages(\"Seurat\"):\n",
      "“installation of package ‘RcppEigen’ had non-zero exit status”\n",
      "Warning message in install.packages(\"Seurat\"):\n",
      "“installation of package ‘shiny’ had non-zero exit status”\n"
     ]
    }
   ],
   "source": [
    "\n",
    "install.packages(\"Seurat\")\n",
    "\n"
   ]
  },
  {
   "cell_type": "code",
   "execution_count": null,
   "metadata": {
    "vscode": {
     "languageId": "r"
    }
   },
   "outputs": [],
   "source": [
    "\n",
    "install.packages(\"reticulate\")\n",
    "install.packages(\"anndata\")\n",
    "install.packages(\"devtools\")\n",
    "devtools::install_github(\"satijalab/seurat-data\")\n",
    "\n",
    "if (!requireNamespace(\"BiocManager\", quietly = TRUE))\n",
    "    install.packages(\"BiocManager\")\n",
    "\n",
    "BiocManager::install(c(\"LoomExperiment\", \"SingleCellExperiment\"))\n",
    "devtools::install_github(\"cellgeni/sceasy\")\n",
    "\n"
   ]
  },
  {
   "cell_type": "code",
   "execution_count": 1,
   "metadata": {
    "vscode": {
     "languageId": "r"
    }
   },
   "outputs": [
    {
     "ename": "ERROR",
     "evalue": "Error in library(Seurat): there is no package called ‘Seurat’\n",
     "output_type": "error",
     "traceback": [
      "Error in library(Seurat): there is no package called ‘Seurat’\nTraceback:\n",
      "1. library(Seurat)"
     ]
    }
   ],
   "source": [
    "\n",
    "library(Seurat)\n",
    "library(SeuratData)\n",
    "library(ggplot2)\n",
    "\n"
   ]
  },
  {
   "cell_type": "code",
   "execution_count": null,
   "metadata": {
    "vscode": {
     "languageId": "r"
    }
   },
   "outputs": [],
   "source": [
    "\n",
    "input_table = read.csv('team-Lee-samples.csv')\n",
    "\n",
    "datasets = pandas.read_csv(input_table, header=None).loc[:, 0].tolist()[1:]\n"
   ]
  },
  {
   "cell_type": "code",
   "execution_count": null,
   "metadata": {
    "vscode": {
     "languageId": "r"
    }
   },
   "outputs": [],
   "source": [
    "\n",
    "dataset <- 'team-Lee-samples.csv'\n",
    "\n",
    "\n",
    "batch <- fread(snakemake@input[['datasets']])[sample %chin% dataset,]$batch\n",
    "\n",
    "raw.counts <- Read10X_h5(paste0(data_path, batch, '/Multiome/', dataset, '/outs/raw_feature_bc_matrix.h5'))\n",
    "filtered.counts <- Read10X_h5(paste0(data_path, batch, '/Multiome/', dataset, '/outs/filtered_feature_bc_matrix.h5'))\n",
    "\n",
    "adj.matrix <- suppressWarnings(SoupCorrect(raw.counts, filtered.counts, contamination_rate=snakemake@params[['soup_rate']]))\n",
    "object <- CreateSeuratObject(adj.matrix, min.cells=0, min.features=0, project=dataset)\n",
    "\n",
    "\n",
    "object[['percent.mt']] <- PercentageFeatureSet(object, pattern='^MT-')\n",
    "object[['percent.rb']] <- PercentageFeatureSet(object, pattern='^RP[SL]')\n",
    "\n",
    "m <- copy(object@meta.data)\n",
    "setDT(m, keep.rownames='cells')\n",
    "\n",
    "m[,\n",
    "    `:=` (\n",
    "        sample=dataset,\n",
    "        batch=batch\n",
    "        )\n",
    "]\n",
    "\n",
    "batch <- m[, batch]\n",
    "sample <- m[, sample]\n",
    "\n",
    "names(sample) <- names(batch) <- m[, cells]\n",
    "\n",
    "\n",
    "doublet_rate <- (ncol(object) / 1000) * 0.008\n",
    "\n",
    "object <- object %>% \n",
    "    \n",
    "    AddMetaData(metadata=factor(batch), col.name='batch') %>% \n",
    "    AddMetaData(metadata=factor(sample), col.name='sample') %>% \n",
    "    \n",
    "    scrublet(n_prin_comps=30, expected_doublet_rate=doublet_rate) \n",
    "\n",
    "\n",
    "saveRDS(object, snakemake@output[['seurat_object']])"
   ]
  }
 ],
 "metadata": {
  "kernelspec": {
   "display_name": "R",
   "language": "R",
   "name": "ir"
  },
  "language_info": {
   "codemirror_mode": "r",
   "file_extension": ".r",
   "mimetype": "text/x-r-source",
   "name": "R",
   "pygments_lexer": "r",
   "version": "4.2.3"
  },
  "orig_nbformat": 4
 },
 "nbformat": 4,
 "nbformat_minor": 2
}
