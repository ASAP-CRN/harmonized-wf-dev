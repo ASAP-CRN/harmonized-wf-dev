{
 "cells": [
  {
   "cell_type": "code",
   "execution_count": null,
   "metadata": {},
   "outputs": [],
   "source": []
  },
  {
   "cell_type": "markdown",
   "metadata": {},
   "source": [
    "ASAP CRN Prototype workflow \n",
    "\n",
    "# ASAP CRN Prototype workflow \n",
    "\n",
    "Skeleton workflow to begin development of a unified workflow for _all_ ASAP CRN single cell (or nucleus) RNA sequence data.\n",
    "based on:\n",
    "* PD_MFG_snRNAseq_with_redos.Rmd from Team Lee ***sequence alignment AND processing***\n",
    "* Harmony-RNA-Workflow [snakefile repo](https://github.com/shahrozeabbas/Harmony-RNA-Workflow) ***processing only***\n",
    "  \n",
    "28 July 2023\n",
    "Andy Henrie\n",
    "\n",
    "\n",
    "Note that the \n",
    "\n",
    "\n",
    "## TOOLS / PACKAGES\n",
    "\n",
    "\n",
    "## STEPS\n",
    "\n",
    "### housekeeping\n",
    "- define names\n",
    "- list of fastq\n",
    "- collect meta-data\n",
    "\n",
    "\n",
    "### alignment \n",
    "- cellranger\n",
    "\n",
    "### preprocessing + basic QC\n",
    "- convert to data object (e.g. Scanpy, Surat)\n",
    "- add metadata\n",
    "    - from metadata\n",
    "    - calculated\n",
    "        - doublets\n",
    "        - mt\n",
    "        - rb\n",
    "    - QC\n",
    "        - mt\n",
    "        - doublets\n",
    "        - counts\n",
    "        - features\n",
    "\n",
    "### processing: cross-team harmonization, QC, and typing\n",
    "- QC\n",
    "- Aggregate\n",
    "    - normalize\n",
    "    - identify highly variable genes\n",
    "    - scale\n",
    "    - assign\n",
    "        - cell cycle scores\n",
    "    - harmonize (LATER)\n",
    "        - concatenate\n",
    "        - RunHarmony\n"
   ]
  },
  {
   "cell_type": "markdown",
   "metadata": {},
   "source": [
    "# HOUSEKEEPING:  set up samples.csv\n",
    "\n",
    "We need to make a samples.csv for running "
   ]
  },
  {
   "cell_type": "code",
   "execution_count": 1,
   "metadata": {},
   "outputs": [
    {
     "name": "stderr",
     "output_type": "stream",
     "text": [
      "Global seed set to 0\n",
      "/Users/ergonyc/miniforge3/envs/scverse10/lib/python3.10/site-packages/tqdm/auto.py:21: TqdmWarning: IProgress not found. Please update jupyter and ipywidgets. See https://ipywidgets.readthedocs.io/en/stable/user_install.html\n",
      "  from .autonotebook import tqdm as notebook_tqdm\n",
      "/Users/ergonyc/miniforge3/envs/scverse10/lib/python3.10/site-packages/flax/struct.py:132: FutureWarning: jax.tree_util.register_keypaths is deprecated, and will be removed in a future release. Please use `register_pytree_with_keys()` instead.\n",
      "  jax.tree_util.register_keypaths(data_clz, keypaths)\n",
      "/Users/ergonyc/miniforge3/envs/scverse10/lib/python3.10/site-packages/flax/struct.py:132: FutureWarning: jax.tree_util.register_keypaths is deprecated, and will be removed in a future release. Please use `register_pytree_with_keys()` instead.\n",
      "  jax.tree_util.register_keypaths(data_clz, keypaths)\n"
     ]
    }
   ],
   "source": [
    "import pandas as pd\n",
    "\n",
    "from pathlib import Path\n",
    "import scanpy as sc\n",
    "import scvi\n",
    "import torch"
   ]
  },
  {
   "cell_type": "code",
   "execution_count": 2,
   "metadata": {},
   "outputs": [],
   "source": [
    "\n",
    "metadata_path = Path.home() / (\"Projects/ASAP/team-lee/metadata\")\n",
    "HIP_covar = pd.read_csv(f\"{metadata_path}/HIP/covar.csv\")\n",
    "HIP_cases = pd.read_csv(f\"{metadata_path}/HIP/PD_ASAP_Sample_batch_information_banner_cases.csv\").dropna(axis=0,how='all')\n",
    "HIP_control = pd.read_csv(f\"{metadata_path}/HIP/PD_ASAP_Sample_batch_information_banner_controls.csv\")\n",
    "\n",
    "MFG_covar = pd.read_csv(f\"{metadata_path}/MFG/covar.csv\") # includes 'PMI' ?\n",
    "MFG_cases = pd.read_csv(f\"{metadata_path}/MFG/PD_ASAP_Sample_batch_information_banner_cases.csv\").dropna(axis=0,how='all')\n",
    "MFG_control = pd.read_csv(f\"{metadata_path}/MFG/PD_ASAP_Sample_batch_information_banner_controls.csv\")\n",
    "\n",
    "\n",
    "SN_covar = pd.read_csv(f\"{metadata_path}/SN/covar.csv\")\n",
    "SN_cases = pd.read_csv(f\"{metadata_path}/SN/PD_ASAP_Sample_batch_information_banner_cases.csv\").dropna(axis=0,how='all')\n",
    "SN_control = pd.read_csv(f\"{metadata_path}/SN/PD_ASAP_Sample_batch_information_banner_controls.csv\")"
   ]
  },
  {
   "cell_type": "markdown",
   "metadata": {},
   "source": [
    "### Hippocampus samples"
   ]
  },
  {
   "cell_type": "code",
   "execution_count": 3,
   "metadata": {},
   "outputs": [],
   "source": [
    "HIP_cases[\"GROUPcv\"]=\"PD\"\n",
    "HIP_control[\"GROUPcv\"]=\"HC\"\n",
    "HIP_meta = pd.concat([HIP_cases, HIP_control], axis=0, ignore_index=True)"
   ]
  },
  {
   "cell_type": "code",
   "execution_count": 4,
   "metadata": {},
   "outputs": [],
   "source": [
    "HIP_meta['MERGE_ID'] = \"HIP_\" + HIP_meta['GROUPcv'] +\"_\" + HIP_meta['CaseID'].str.replace('-','')\n",
    "HIP_covar['MERGE_ID'] = HIP_covar['COUNT_ID']\n",
    "# the fastqs follow COUNT_ID insteald of SEQ_ID naming convention\n",
    "HIP_covar['SEQ_ID'] = HIP_covar['COUNT_ID']\n",
    "\n",
    "\n",
    "HIP_TABLE = pd.merge(HIP_covar, HIP_meta, on='MERGE_ID', how='inner')\n",
    "HIP_TABLE.columns\n",
    "\n",
    "HIP_TABLE['subdir']=\"HIP\""
   ]
  },
  {
   "cell_type": "markdown",
   "metadata": {},
   "source": [
    "### medial frontal gyrus samples"
   ]
  },
  {
   "cell_type": "code",
   "execution_count": 5,
   "metadata": {},
   "outputs": [],
   "source": [
    "MFG_cases[\"GROUPcv\"]=\"PD\"\n",
    "MFG_control[\"GROUPcv\"]=\"HC\"\n",
    "MFG_meta = pd.concat([MFG_cases, MFG_control], axis=0, ignore_index=True)\n",
    "\n",
    "# make a MERGE_ID column because the formatting is inconsistent\n",
    "MFG_meta['MERGE_ID'] = \"MFG_\" + MFG_meta['GROUPcv'] +\"_\" + MFG_meta['CaseID'].str.replace('-','')\n",
    "MFG_covar['MERGE_ID'] = MFG_covar['SAMPLE']\n",
    "# the fastqs are in SEQ_ID \n",
    "\n",
    "MFG_TABLE = pd.merge(MFG_covar, MFG_meta, on='MERGE_ID', how='inner')\n",
    "MFG_TABLE['subdir']=\"MFG\""
   ]
  },
  {
   "cell_type": "markdown",
   "metadata": {},
   "source": [
    "### Substantia Nigra samples"
   ]
  },
  {
   "cell_type": "code",
   "execution_count": 6,
   "metadata": {},
   "outputs": [
    {
     "data": {
      "text/html": [
       "<div>\n",
       "<style scoped>\n",
       "    .dataframe tbody tr th:only-of-type {\n",
       "        vertical-align: middle;\n",
       "    }\n",
       "\n",
       "    .dataframe tbody tr th {\n",
       "        vertical-align: top;\n",
       "    }\n",
       "\n",
       "    .dataframe thead th {\n",
       "        text-align: right;\n",
       "    }\n",
       "</style>\n",
       "<table border=\"1\" class=\"dataframe\">\n",
       "  <thead>\n",
       "    <tr style=\"text-align: right;\">\n",
       "      <th></th>\n",
       "      <th>BRAIN_REGION</th>\n",
       "      <th>SAMPLE</th>\n",
       "      <th>ID</th>\n",
       "      <th>SEQ_ID</th>\n",
       "      <th>BATCH</th>\n",
       "      <th>GROUP</th>\n",
       "      <th>DIAGNOSIS</th>\n",
       "      <th>SEX</th>\n",
       "      <th>AGE</th>\n",
       "      <th>DIAGNOSIS_AGE</th>\n",
       "      <th>DIAGNOSIS_YEARS</th>\n",
       "      <th>DISEASE</th>\n",
       "      <th>ALZHEIMERS_BRAAK</th>\n",
       "      <th>DEMENTIA</th>\n",
       "      <th>DEMENTIA_AGE</th>\n",
       "      <th>DEMENTIA_YEARS</th>\n",
       "      <th>WEIGHT_USED</th>\n",
       "      <th>TOTAL_WEIGHT</th>\n",
       "    </tr>\n",
       "  </thead>\n",
       "  <tbody>\n",
       "    <tr>\n",
       "      <th>0</th>\n",
       "      <td>Substantia_nigra</td>\n",
       "      <td>SN_HC_1939</td>\n",
       "      <td>HC_19-39</td>\n",
       "      <td>SN_1939_HC</td>\n",
       "      <td>BATCH_5</td>\n",
       "      <td>HC</td>\n",
       "      <td>0</td>\n",
       "      <td>2</td>\n",
       "      <td>93</td>\n",
       "      <td>NaN</td>\n",
       "      <td>NaN</td>\n",
       "      <td>LBS</td>\n",
       "      <td>II</td>\n",
       "      <td>0</td>\n",
       "      <td>NaN</td>\n",
       "      <td>NaN</td>\n",
       "      <td>27</td>\n",
       "      <td>27</td>\n",
       "    </tr>\n",
       "    <tr>\n",
       "      <th>1</th>\n",
       "      <td>Substantia_nigra</td>\n",
       "      <td>SN_HC_0602</td>\n",
       "      <td>MCI_06-02</td>\n",
       "      <td>SN_0602_HC</td>\n",
       "      <td>BATCH_5</td>\n",
       "      <td>HC</td>\n",
       "      <td>0</td>\n",
       "      <td>1</td>\n",
       "      <td>84</td>\n",
       "      <td>81.0</td>\n",
       "      <td>3.0</td>\n",
       "      <td>LBS</td>\n",
       "      <td>I</td>\n",
       "      <td>0</td>\n",
       "      <td>NaN</td>\n",
       "      <td>NaN</td>\n",
       "      <td>25</td>\n",
       "      <td>46</td>\n",
       "    </tr>\n",
       "    <tr>\n",
       "      <th>2</th>\n",
       "      <td>Substantia_nigra</td>\n",
       "      <td>SN_PD_0413</td>\n",
       "      <td>PD_04-13</td>\n",
       "      <td>SN_0413_PD</td>\n",
       "      <td>BATCH_5</td>\n",
       "      <td>PD</td>\n",
       "      <td>1</td>\n",
       "      <td>1</td>\n",
       "      <td>72</td>\n",
       "      <td>62.0</td>\n",
       "      <td>10.0</td>\n",
       "      <td>PD</td>\n",
       "      <td>I</td>\n",
       "      <td>0</td>\n",
       "      <td>NaN</td>\n",
       "      <td>NaN</td>\n",
       "      <td>33</td>\n",
       "      <td>33</td>\n",
       "    </tr>\n",
       "    <tr>\n",
       "      <th>3</th>\n",
       "      <td>Substantia_nigra</td>\n",
       "      <td>SN_PD_1317</td>\n",
       "      <td>PD_13-17</td>\n",
       "      <td>SN_1317_PD</td>\n",
       "      <td>BATCH_5</td>\n",
       "      <td>PD</td>\n",
       "      <td>1</td>\n",
       "      <td>1</td>\n",
       "      <td>83</td>\n",
       "      <td>70.0</td>\n",
       "      <td>13.0</td>\n",
       "      <td>PD</td>\n",
       "      <td>IV</td>\n",
       "      <td>0</td>\n",
       "      <td>NaN</td>\n",
       "      <td>NaN</td>\n",
       "      <td>30</td>\n",
       "      <td>30</td>\n",
       "    </tr>\n",
       "    <tr>\n",
       "      <th>4</th>\n",
       "      <td>Substantia_nigra</td>\n",
       "      <td>SN_PD_1973</td>\n",
       "      <td>PD_19-73</td>\n",
       "      <td>SN_1973_PD</td>\n",
       "      <td>BATCH_5</td>\n",
       "      <td>PD</td>\n",
       "      <td>1</td>\n",
       "      <td>1</td>\n",
       "      <td>84</td>\n",
       "      <td>70.0</td>\n",
       "      <td>14.0</td>\n",
       "      <td>PD</td>\n",
       "      <td>IV</td>\n",
       "      <td>1</td>\n",
       "      <td>79.0</td>\n",
       "      <td>5.0</td>\n",
       "      <td>40</td>\n",
       "      <td>65</td>\n",
       "    </tr>\n",
       "  </tbody>\n",
       "</table>\n",
       "</div>"
      ],
      "text/plain": [
       "       BRAIN_REGION      SAMPLE         ID      SEQ_ID    BATCH GROUP   \n",
       "0  Substantia_nigra  SN_HC_1939   HC_19-39  SN_1939_HC  BATCH_5    HC  \\\n",
       "1  Substantia_nigra  SN_HC_0602  MCI_06-02  SN_0602_HC  BATCH_5    HC   \n",
       "2  Substantia_nigra  SN_PD_0413   PD_04-13  SN_0413_PD  BATCH_5    PD   \n",
       "3  Substantia_nigra  SN_PD_1317   PD_13-17  SN_1317_PD  BATCH_5    PD   \n",
       "4  Substantia_nigra  SN_PD_1973   PD_19-73  SN_1973_PD  BATCH_5    PD   \n",
       "\n",
       "   DIAGNOSIS  SEX  AGE  DIAGNOSIS_AGE  DIAGNOSIS_YEARS DISEASE   \n",
       "0          0    2   93            NaN              NaN     LBS  \\\n",
       "1          0    1   84           81.0              3.0     LBS   \n",
       "2          1    1   72           62.0             10.0      PD   \n",
       "3          1    1   83           70.0             13.0      PD   \n",
       "4          1    1   84           70.0             14.0      PD   \n",
       "\n",
       "  ALZHEIMERS_BRAAK  DEMENTIA  DEMENTIA_AGE  DEMENTIA_YEARS  WEIGHT_USED   \n",
       "0               II         0           NaN             NaN           27  \\\n",
       "1                I         0           NaN             NaN           25   \n",
       "2                I         0           NaN             NaN           33   \n",
       "3               IV         0           NaN             NaN           30   \n",
       "4               IV         1          79.0             5.0           40   \n",
       "\n",
       "   TOTAL_WEIGHT  \n",
       "0            27  \n",
       "1            46  \n",
       "2            33  \n",
       "3            30  \n",
       "4            65  "
      ]
     },
     "execution_count": 6,
     "metadata": {},
     "output_type": "execute_result"
    }
   ],
   "source": [
    "SN_covar.head()"
   ]
  },
  {
   "cell_type": "code",
   "execution_count": 7,
   "metadata": {},
   "outputs": [],
   "source": [
    "SN_cases[\"GROUPcv\"]=\"PD\"\n",
    "SN_control[\"GROUPcv\"]=\"HC\"\n",
    "SN_meta = pd.concat([SN_cases, SN_control], axis=0, ignore_index=True)\n",
    "\n",
    "SN_meta['MERGE_ID'] = \"SN_\" + MFG_meta['GROUPcv'] +\"_\" + MFG_meta['CaseID'].str.replace('-','')\n",
    "SN_covar['MERGE_ID'] = SN_covar['SAMPLE']\n",
    "\n",
    "SN_TABLE = pd.merge(SN_covar, SN_meta, on='MERGE_ID', how='inner')\n",
    "SN_TABLE['subdir']=\"SN\""
   ]
  },
  {
   "cell_type": "markdown",
   "metadata": {},
   "source": [
    "### concatenate SN, MSG, and HIP tables into one 'all_samples' table"
   ]
  },
  {
   "cell_type": "code",
   "execution_count": 8,
   "metadata": {},
   "outputs": [],
   "source": [
    "all_samples = pd.concat([HIP_TABLE, MFG_TABLE, SN_TABLE], axis=0, ignore_index=True)\n",
    "\n"
   ]
  },
  {
   "cell_type": "code",
   "execution_count": 9,
   "metadata": {},
   "outputs": [],
   "source": [
    "\n",
    "all_samples.to_csv(\"team-Lee-all_samples.csv\")"
   ]
  },
  {
   "cell_type": "code",
   "execution_count": 27,
   "metadata": {},
   "outputs": [],
   "source": [
    "samples_csv = pd.DataFrame()\n",
    "samples_csv['sample'] = all_samples['SEQ_ID']\n",
    "samples_csv['batch'] = all_samples['BATCH']\n",
    "samples_csv['subdir'] = all_samples['subdir']\n",
    "\n",
    "samples_csv.to_csv(\"team-Lee-samples.csv\")"
   ]
  },
  {
   "cell_type": "markdown",
   "metadata": {},
   "source": [
    "# ALIGNMENT\n",
    "\n",
    "> SOURCE: [gs://asap-raw-data-team-lee/scripts/PD_MFG_snRNAseq_with_redos.Rmd](gs://asap-raw-data-team-lee/scripts/PD_MFG_snRNAseq_with_redos.Rmd)\n",
    "\n",
    "\n",
    "## Cellranger\n",
    "\n",
    "Transfer sequencing data from genomics to rawdata  \n",
    "cellranger-6.0.1 to align and count  \n",
    "performed mRNA alignment for standard single cell counts  \n",
    "also performed mRNA and premRNA (introns) counts for trajectory analysis\n",
    "\n",
    "Need to run cellranger count for each sample.. i.e. \n",
    "\n",
    "HIP/HIP_HC_2067,HIP/HIP_PD_0413,HIP/HIP_PD_1504,HIP/HIP_HC_2062,HIP/HIP_PD_2038...\n"
   ]
  },
  {
   "cell_type": "code",
   "execution_count": 12,
   "metadata": {},
   "outputs": [
    {
     "name": "stdout",
     "output_type": "stream",
     "text": [
      "/Users/ergonyc/Projects/ASAP/harmonized-wf-dev/examples\n"
     ]
    }
   ],
   "source": [
    "!pwd"
   ]
  },
  {
   "cell_type": "code",
   "execution_count": null,
   "metadata": {},
   "outputs": [],
   "source": [
    "%%bash\n",
    "#---------- cellranger\n",
    "#----- mRNA alignment and counting\n",
    "# used for single cell\n",
    "# don't use --include-introns\n",
    "\n",
    "#---------- cellranger_mRNA_premRNA\n",
    "#----- mRNA and premRNA alignment and counting\n",
    "# used for single nuclei\n",
    "module load cellranger/cellranger-6.0.1\n",
    "\n",
    "\n",
    "\"cellranger count  \\\n",
    "  --id=TEAM_LEE \\\n",
    "  --transcriptome=refdata-gex-GRCh38-2020-A \\\n",
    "  --fastqs=../data/team-lee/fastq/ \n",
    "  --sample=SAMPLE \n",
    "  --localcores=4\""
   ]
  },
  {
   "cell_type": "markdown",
   "metadata": {},
   "source": [
    "# PRE-PROCESSING\n",
    "\n",
    "- convert to seurat Object\n",
    "- qc features"
   ]
  },
  {
   "cell_type": "code",
   "execution_count": 13,
   "metadata": {},
   "outputs": [],
   "source": [
    "## convert to seurat Object\n",
    "data_path = Path.home() / (\"Projects/ASAP/team-lee\")\n",
    "metadata_path = data_path / \"metadata\"\n",
    "SAMPLE = pd.read_csv(f\"{metadata_path}/SAMPLE.tsv\",delimiter=\"\\t\")\n",
    "\n",
    "SUBJECT = pd.read_csv(f\"{metadata_path}/SUBJECT.tsv\",delimiter=\"\\t\")\n",
    "CLINPATH = pd.read_csv(f\"{metadata_path}/CLINPATH.csv\",delimiter=\",\")\n",
    "STUDY = pd.read_csv(f\"{metadata_path}/STUDY.tsv\",delimiter=\"\\t\")\n",
    "PROTOCOL = pd.read_csv(f\"{metadata_path}/PROTOCOL.tsv\",delimiter=\"\\t\")\n",
    "\n",
    "# read count matriz\n",
    "adata_path = data_path / \"cellranger_counts/SN\"\n",
    "\n",
    "# SN_2061_HC_count_filtered_feature_bc_matrix.h5\n",
    "# SN_2061_HC_count_molecule_info.h5\n",
    "# SN_2061_HC_count_raw_feature_bc_matrix.h5\n",
    "\n",
    "raw_counts = adata_path / \"SN_2061_HC_count_raw_feature_bc_matrix.h5\"\n",
    "filtered_counts = adata_path / \"SN_2061_HC_count_filtered_feature_bc_matrix.h5\"\n",
    "molec_info_counts = adata_path / \"SN_2061_HC_count_molecule_info.h5\"\n",
    "\n"
   ]
  },
  {
   "cell_type": "code",
   "execution_count": 15,
   "metadata": {},
   "outputs": [
    {
     "name": "stderr",
     "output_type": "stream",
     "text": [
      "/Users/ergonyc/miniforge3/envs/scverse10/lib/python3.10/site-packages/anndata/_core/anndata.py:1832: UserWarning: Variable names are not unique. To make them unique, call `.var_names_make_unique`.\n",
      "  utils.warn_names_duplicates(\"var\")\n",
      "/Users/ergonyc/miniforge3/envs/scverse10/lib/python3.10/site-packages/anndata/_core/anndata.py:1832: UserWarning: Variable names are not unique. To make them unique, call `.var_names_make_unique`.\n",
      "  utils.warn_names_duplicates(\"var\")\n"
     ]
    }
   ],
   "source": [
    "raw_adata = sc.read_10x_h5(raw_counts, genome='GRCh38')\n",
    "filt_adata = sc.read_10x_h5(filtered_counts, genome='GRCh38')"
   ]
  },
  {
   "cell_type": "code",
   "execution_count": 17,
   "metadata": {},
   "outputs": [
    {
     "data": {
      "text/plain": [
       "AnnData object with n_obs × n_vars = 514945 × 36601\n",
       "    var: 'gene_ids', 'feature_types', 'genome'"
      ]
     },
     "execution_count": 17,
     "metadata": {},
     "output_type": "execute_result"
    }
   ],
   "source": [
    "raw_adata"
   ]
  },
  {
   "cell_type": "code",
   "execution_count": 18,
   "metadata": {},
   "outputs": [
    {
     "data": {
      "text/plain": [
       "AnnData object with n_obs × n_vars = 514945 × 36601\n",
       "    var: 'gene_ids', 'feature_types', 'genome'"
      ]
     },
     "execution_count": 18,
     "metadata": {},
     "output_type": "execute_result"
    }
   ],
   "source": [
    "raw_adata.var_names_make_unique()\n",
    "raw_adata"
   ]
  },
  {
   "cell_type": "code",
   "execution_count": 23,
   "metadata": {},
   "outputs": [
    {
     "data": {
      "text/plain": [
       "View of AnnData object with n_obs × n_vars = 10 × 10\n",
       "    var: 'gene_ids', 'feature_types', 'genome'"
      ]
     },
     "execution_count": 23,
     "metadata": {},
     "output_type": "execute_result"
    }
   ],
   "source": [
    "raw_adata[:10,:10]"
   ]
  },
  {
   "cell_type": "code",
   "execution_count": 24,
   "metadata": {},
   "outputs": [
    {
     "data": {
      "text/plain": [
       "AnnData object with n_obs × n_vars = 6004 × 36601\n",
       "    var: 'gene_ids', 'feature_types', 'genome'"
      ]
     },
     "execution_count": 24,
     "metadata": {},
     "output_type": "execute_result"
    }
   ],
   "source": [
    "filt_adata"
   ]
  },
  {
   "cell_type": "code",
   "execution_count": 25,
   "metadata": {},
   "outputs": [
    {
     "ename": "AttributeError",
     "evalue": "'AnnData' object has no attribute 'gene_ids'",
     "output_type": "error",
     "traceback": [
      "\u001b[0;31m---------------------------------------------------------------------------\u001b[0m",
      "\u001b[0;31mAttributeError\u001b[0m                            Traceback (most recent call last)",
      "Cell \u001b[0;32mIn[25], line 1\u001b[0m\n\u001b[0;32m----> 1\u001b[0m filt_adata\u001b[39m.\u001b[39;49mgene_ids\n",
      "\u001b[0;31mAttributeError\u001b[0m: 'AnnData' object has no attribute 'gene_ids'"
     ]
    }
   ],
   "source": [
    "filt_adata.gene_ids"
   ]
  },
  {
   "cell_type": "code",
   "execution_count": 26,
   "metadata": {},
   "outputs": [
    {
     "ename": "AttributeError",
     "evalue": "module 'scanpy' has no attribute 'read_seurat'",
     "output_type": "error",
     "traceback": [
      "\u001b[0;31m---------------------------------------------------------------------------\u001b[0m",
      "\u001b[0;31mAttributeError\u001b[0m                            Traceback (most recent call last)",
      "Cell \u001b[0;32mIn[26], line 8\u001b[0m\n\u001b[1;32m      5\u001b[0m filtered \u001b[39m=\u001b[39m seurat_path \u001b[39m/\u001b[39m \u001b[39m\"\u001b[39m\u001b[39mseurat_filtered.rds\u001b[39m\u001b[39m\"\u001b[39m\n\u001b[1;32m      6\u001b[0m combined \u001b[39m=\u001b[39m seurat_path \u001b[39m/\u001b[39m \u001b[39m\"\u001b[39m\u001b[39mseurat_combined.rds\u001b[39m\u001b[39m\"\u001b[39m\n\u001b[0;32m----> 8\u001b[0m filt \u001b[39m=\u001b[39m sc\u001b[39m.\u001b[39;49mread_seurat(filtered_original)\n",
      "\u001b[0;31mAttributeError\u001b[0m: module 'scanpy' has no attribute 'read_seurat'"
     ]
    }
   ],
   "source": [
    "seurat_path = data_path / \"seurat_objects/SN\"\n",
    "\n",
    "\n",
    "filtered_original = seurat_path / \"seurat_filtered_original.rds\"\n",
    "filtered = seurat_path / \"seurat_filtered.rds\"\n",
    "combined = seurat_path / \"seurat_combined.rds\"\n",
    "\n",
    "filt = sc.read_seurat(filtered_original)"
   ]
  },
  {
   "cell_type": "code",
   "execution_count": null,
   "metadata": {},
   "outputs": [],
   "source": []
  }
 ],
 "metadata": {
  "kernelspec": {
   "display_name": "scverse10",
   "language": "python",
   "name": "python3"
  },
  "language_info": {
   "codemirror_mode": {
    "name": "ipython",
    "version": 3
   },
   "file_extension": ".py",
   "mimetype": "text/x-python",
   "name": "python",
   "nbconvert_exporter": "python",
   "pygments_lexer": "ipython3",
   "version": "3.10.10"
  },
  "orig_nbformat": 4
 },
 "nbformat": 4,
 "nbformat_minor": 2
}
